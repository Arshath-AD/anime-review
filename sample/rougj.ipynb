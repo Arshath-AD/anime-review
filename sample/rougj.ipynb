{
 "cells": [
  {
   "cell_type": "code",
   "execution_count": 1,
   "metadata": {},
   "outputs": [
    {
     "name": "stdout",
     "output_type": "stream",
     "text": [
      "<class 'array.array'>\n",
      "1 2 3 "
     ]
    }
   ],
   "source": [
    "# importing \"array\" for array creations\n",
    "import array as arr\n",
    " \n",
    "# creating an array with integer type\n",
    "a = arr.array('q', [1, 2, 3])\n",
    "print(type(a))\n",
    "for i in a:\n",
    "    print(i, end=\" \")"
   ]
  },
  {
   "cell_type": "code",
   "execution_count": null,
   "metadata": {},
   "outputs": [],
   "source": [
    "class SimplelistAOT:\n",
    "    def __init__(self):\n",
    "        self.items = []\n",
    "\n",
    "    def appendd(self,item): #Appending\n",
    "        self.items.append(item)\n",
    "\n",
    "    def removee(self,item): #Removing\n",
    "        self.items.remove(item)\n",
    "\n",
    "    def insertt(self,item): #inserting\n",
    "        self.items.insert(-1,item)\n",
    "\n",
    "    def insert_att(self,index,item): #inserting at index\n",
    "        self.items.insert(index,item)\n",
    "\n",
    "    def remove_att(self,index): #removing at index\n",
    "        self.items.pop(index)\n",
    "\n",
    "    def strr(self,item): #converting to string\n",
    "        string = str(self.items)\n",
    "\n",
    "    def console(self): #Printing list\n",
    "        print(self.items)\n",
    "    \n",
    "    def extend(self,items): #extend\n",
    "        self.items.extend(items)\n",
    "\n",
    "def interactor():\n",
    "    obj = SimplelistAOT()\n",
    "    print(\"\"\"Hi i am your list Operator.\n",
    "You can do operations like,\n",
    "append:                      you should enter 1 for it.\n",
    "remove:                      you should enter 2 for it.\n",
    "remove at specific index:    you should enter 3 for it.\n",
    "insert:                      you should enter 4 for it.\n",
    "insert at specific index:    you should enter 5 for it.\n",
    "string convertion:           you should enter 6 for it.\n",
    "extend it with another list: you should enter 7 for it.\n",
    "print:                       you should enter 8 for it.\n",
    "quit the operation:          you should enter 9 for it.\n",
    "          \"\"\")\n",
    "    userinput=int(input('Enter your desired operation number: '))\n",
    "    if userinput in [1,2,3,4,5,6,7,8]:\n",
    "        if userinput==1:obj.appendd(input('enter the element'))\n",
    "        elif userinput==2:obj.removee(input('enter the element'))\n",
    "        elif userinput==3:obj.remove_att(input(\"enter the index\"),input(\"enter the item\"))\n",
    "        elif userinput==4:obj.insertt(input(\"enter the item\"))\n",
    "        elif userinput==5:obj.insert_att(input(\"enter th\"))\n",
    "        elif userinput==6:obj.strr([input(f\"enter the element {x} in length:\") for x in range(int(input(\"Enter length of list: \")))])\n",
    "        elif userinput==7:obj.extend([input(f\"enter the element {x} in length:\") for x in range(int(input(\"Enter length of list: \")))])\n",
    "        elif userinput==8:obj.console()\n",
    "    \n",
    "interactor()"
   ]
  },
  {
   "cell_type": "markdown",
   "metadata": {},
   "source": [
    "append\n",
    "extend\n",
    "insertindex\n",
    "remove \n",
    "remove at \n",
    "index itemue\n",
    "pop\n",
    "str\n"
   ]
  },
  {
   "cell_type": "code",
   "execution_count": null,
   "metadata": {},
   "outputs": [],
   "source": [
    "a=[1,2,3,5]\n",
    "a.index(1)\n",
    "a.remove(2555)"
   ]
  },
  {
   "cell_type": "code",
   "execution_count": 15,
   "metadata": {},
   "outputs": [
    {
     "name": "stdout",
     "output_type": "stream",
     "text": [
      "['1', '1', '', '2', '3', '4', '5', '4', '3', '2']\n"
     ]
    }
   ],
   "source": [
    "def hi(l):\n",
    "    print(l)\n",
    "hi([input(f\"enter the element {x}:\") for x in range(int(input(\"Enter the lenth of list: \")))])"
   ]
  },
  {
   "cell_type": "code",
   "execution_count": null,
   "metadata": {},
   "outputs": [],
   "source": [
    "def a(*huj):\n"
   ]
  }
 ],
 "metadata": {
  "kernelspec": {
   "display_name": "Python 3",
   "language": "python",
   "name": "python3"
  },
  "language_info": {
   "codemirror_mode": {
    "name": "ipython",
    "version": 3
   },
   "file_extension": ".py",
   "mimetype": "text/x-python",
   "name": "python",
   "nbconvert_exporter": "python",
   "pygments_lexer": "ipython3",
   "version": "3.11.9"
  }
 },
 "nbformat": 4,
 "nbformat_minor": 2
}
